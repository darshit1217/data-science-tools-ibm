{
 "cells": [
  {
   "cell_type": "markdown",
   "id": "0de94cbe-22a4-458a-8f8d-7a591250d6cf",
   "metadata": {
    "tags": []
   },
   "source": [
    "# Data Science Tools and Ecosystem\n"
   ]
  },
  {
   "cell_type": "markdown",
   "id": "bf0dc1c0-fdc0-47ec-8312-3b746c62cb83",
   "metadata": {
    "tags": []
   },
   "source": [
    "# In this notebook, Data Science Tools and Ecosystem are summarized.\n"
   ]
  },
  {
   "cell_type": "markdown",
   "id": "14a31dd8-063f-452e-b2d4-c2b6328d427a",
   "metadata": {
    "tags": []
   },
   "source": [
    "# Objectives:\n",
    "\n",
    "**Some of the key takeaways from this notebook include:**\n",
    "\n",
    "- List popular languages for Data Science.\n",
    "- Introduce common libraries used in Data Science.\n",
    "- Explore open-source tools for Data Science development.\n",
    "- Demonstrate basic arithmetic operations in Python.\n",
    "- Convert minutes to hours using Python expressions.\n"
   ]
  },
  {
   "cell_type": "markdown",
   "id": "bce1380e-a410-444a-bc61-e44d0824d574",
   "metadata": {},
   "source": [
    "# Some of the popular languages that Data Scientists use are:\n",
    "\n",
    "1. **Python**: Python is one of the most widely used programming languages in the field of data science. It offers a vast ecosystem of libraries and frameworks such as NumPy, pandas, scikit-learn, TensorFlow, and PyTorch, making it ideal for data manipulation, analysis, and machine learning.\n",
    "\n",
    "2. **R**: R is another popular programming language among data scientists, particularly in academia and research. It provides powerful statistical computing capabilities and a wide range of packages for data analysis, visualization, and modeling.\n",
    "\n",
    "3. **SQL (Structured Query Language)**: SQL is essential for working with relational databases, which are commonly used in data science projects for storing and retrieving data. Data scientists use SQL to query, manipulate, and analyze large datasets efficiently.\n",
    "\n",
    "4. **Julia**: Julia is gaining popularity in the data science community due to its high performance and ease of use. It is designed for numerical and scientific computing and offers syntax that is familiar to users of other technical computing environments.\n",
    "\n",
    "5. **Scala**: Scala is often used in conjunction with Apache Spark for big data processing and machine learning tasks. It combines object-oriented and functional programming paradigms and provides a scalable and distributed computing framework.\n",
    "\n",
    "6. **MATLAB**: MATLAB is widely used in engineering and scientific fields, including data science, for numerical computing, data visualization, and algorithm development. It offers built-in functions and toolboxes for various data analysis tasks.\n",
    "\n",
    "7. **Julia**: Julia is gaining popularity in the data science community due to its high performance and ease of use. It is designed for numerical and scientific computing and offers syntax that is familiar to users of other technical computing environments.\n"
   ]
  },
  {
   "cell_type": "markdown",
   "id": "a9bd7106-b328-4a2f-8e81-c164baa5cda7",
   "metadata": {},
   "source": [
    "# Data Science Libraries\n",
    "\n",
    "Some of the commonly used libraries used by Data Scientists include:\n",
    "\n",
    "1. **NumPy**: NumPy is a fundamental package for numerical computing in Python. It provides support for arrays, matrices, and mathematical functions, making it essential for data manipulation and numerical operations.\n",
    "\n",
    "2. **pandas**: pandas is a powerful data analysis and manipulation library for Python. It offers data structures like DataFrame and Series, along with tools for reading and writing data from various sources, handling missing data, and performing data aggregation and transformation.\n",
    "\n",
    "3. **scikit-learn**: scikit-learn is a popular machine learning library for Python. It provides a simple and efficient set of tools for data mining and data analysis tasks, including classification, regression, clustering, dimensionality reduction, and model evaluation.\n",
    "\n",
    "4. **Matplotlib**: Matplotlib is a comprehensive library for creating static, animated, and interactive visualizations in Python. It offers a wide range of plotting functions and customization options, making it suitable for various data visualization tasks.\n",
    "\n",
    "5. **Seaborn**: Seaborn is built on top of Matplotlib and provides a high-level interface for creating attractive and informative statistical graphics in Python. It simplifies the process of creating complex visualizations and offers built-in support for handling categorical data and plotting statistical models.\n",
    "\n",
    "6. **TensorFlow**: TensorFlow is an open-source machine learning framework developed by Google. It provides tools and APIs for building and training deep learning models, including neural networks, and deploying them in production environments.\n",
    "\n",
    "7. **PyTorch**: PyTorch is another popular deep learning framework that offers dynamic computational graphs and a flexible architecture for building and training neural networks. It is widely used for research and prototyping in academia and industry.\n",
    "\n",
    "8. **Keras**: Keras is a high-level neural networks API that is designed to be easy to use, modular, and extensible. It provides a user-friendly interface for building and training deep learning models, with support for both TensorFlow and PyTorch as backend engines.\n"
   ]
  },
  {
   "cell_type": "markdown",
   "id": "83ed8817-01fb-4617-a943-4e8e65df8de9",
   "metadata": {
    "tags": []
   },
   "source": [
    "# Data Science Tools\n",
    "\n",
    "Some of the commonly used open-source tools for data science development are:\n",
    "\n",
    "| Data Science Tools |\n",
    "|--------------------|\n",
    "| Jupyter Notebook   |\n",
    "| RStudio            |\n",
    "| VS Code            |\n"
   ]
  },
  {
   "cell_type": "markdown",
   "id": "14130de2-9078-4883-b238-038dc801917a",
   "metadata": {
    "tags": []
   },
   "source": [
    "### Below are a few examples of evaluating arithmetic expressions in Python"
   ]
  },
  {
   "cell_type": "code",
   "execution_count": 3,
   "id": "b70c1b8f-e5fd-41ac-a84e-448aa8a176c1",
   "metadata": {
    "tags": []
   },
   "outputs": [
    {
     "data": {
      "text/plain": [
       "17"
      ]
     },
     "execution_count": 3,
     "metadata": {},
     "output_type": "execute_result"
    }
   ],
   "source": [
    "# This is a simple arithmetic expression to multiply then add integers\n",
    "result = (3 * 4) + 5\n",
    "result\n"
   ]
  },
  {
   "cell_type": "code",
   "execution_count": 4,
   "id": "810fc6d9-3eec-48ca-943f-dfcc86df9278",
   "metadata": {
    "tags": []
   },
   "outputs": [
    {
     "data": {
      "text/plain": [
       "3.3333333333333335"
      ]
     },
     "execution_count": 4,
     "metadata": {},
     "output_type": "execute_result"
    }
   ],
   "source": [
    "# This will convert 200 minutes to hours by dividing by 60.\n",
    "hours = 200 / 60\n",
    "hours\n"
   ]
  },
  {
   "cell_type": "markdown",
   "id": "42e576bd-9804-4599-b17e-e1c1bf6a89e3",
   "metadata": {},
   "source": [
    "## Author\n",
    "\n",
    "Darshit Jain\n"
   ]
  },
  {
   "cell_type": "code",
   "execution_count": null,
   "id": "2dd90417-9efc-45e7-86e8-9212d7debf75",
   "metadata": {},
   "outputs": [],
   "source": []
  }
 ],
 "metadata": {
  "kernelspec": {
   "display_name": "Python",
   "language": "python",
   "name": "conda-env-python-py"
  },
  "language_info": {
   "codemirror_mode": {
    "name": "ipython",
    "version": 3
   },
   "file_extension": ".py",
   "mimetype": "text/x-python",
   "name": "python",
   "nbconvert_exporter": "python",
   "pygments_lexer": "ipython3",
   "version": "3.7.12"
  }
 },
 "nbformat": 4,
 "nbformat_minor": 5
}
